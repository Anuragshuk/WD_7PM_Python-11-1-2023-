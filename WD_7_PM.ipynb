{
  "nbformat": 4,
  "nbformat_minor": 0,
  "metadata": {
    "colab": {
      "provenance": []
    },
    "kernelspec": {
      "name": "python3",
      "display_name": "Python 3"
    },
    "language_info": {
      "name": "python"
    },
    "accelerator": "TPU",
    "gpuClass": "standard"
  },
  "cells": [
    {
      "cell_type": "code",
      "execution_count": null,
      "metadata": {
        "colab": {
          "base_uri": "https://localhost:8080/"
        },
        "id": "bkn_p0ycYuyQ",
        "outputId": "de11676f-7d52-44bd-b369-a62a143dca7b"
      },
      "outputs": [
        {
          "output_type": "stream",
          "name": "stdout",
          "text": [
            "hello world\n",
            "I am krishna\n"
          ]
        }
      ],
      "source": [
        "print(\"hello world\")\n",
        "print(\"I am krishna\")"
      ]
    },
    {
      "cell_type": "code",
      "source": [],
      "metadata": {
        "id": "XPVHTBYTZ8HM"
      },
      "execution_count": null,
      "outputs": []
    }
  ]
}